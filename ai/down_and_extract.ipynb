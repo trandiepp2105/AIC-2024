{
 "cells": [
  {
   "cell_type": "code",
   "execution_count": null,
   "metadata": {},
   "outputs": [],
   "source": [
    "import os\n",
    "import requests\n",
    "import zipfile"
   ]
  },
  {
   "cell_type": "code",
   "execution_count": null,
   "metadata": {},
   "outputs": [],
   "source": [
    "list_of_urls = [\n",
    "    \"https://atm249497-s3user.vcos.cloudstorage.com.vn/aic24-b7/Videos_L07.zip\",\n",
    "]"
   ]
  },
  {
   "cell_type": "code",
   "execution_count": null,
   "metadata": {},
   "outputs": [],
   "source": [
    "def download_file(url, filename, output_dir):\n",
    "    if not os.path.exists(output_dir):\n",
    "        os.makedirs(output_dir)\n",
    "    response = requests.get(url, stream=True)\n",
    "    # Hiện số mb đã tải\n",
    "    total_length = response.headers.get('content-length')\n",
    "    if total_length is None:\n",
    "        with open(output_dir + filename, 'wb') as file:\n",
    "            file.write(response.content)\n",
    "    else:\n",
    "        dl = 0\n",
    "        total_length = int(total_length)\n",
    "        with open(output_dir + filename, 'wb') as file:\n",
    "            for data in response.iter_content(chunk_size=8192):\n",
    "                dl += len(data)\n",
    "                file.write(data)\n",
    "                done = int(50 * dl / total_length)\n",
    "                print(\"\\r[%s%s] %s mb\" % ('=' * done, ' ' * (50-done), round(dl/1000000, 2)), end='')\n",
    "    print(\"\\nDownload completed\")\n",
    "\n",
    "def extract_zip(zip_file, output_dir):\n",
    "    with zipfile.ZipFile(zip_file, 'r') as zip_ref:\n",
    "        zip_ref.extractall(output_dir)\n",
    "    print(\"Extract completed\")\n",
    "\n",
    "    os.remove(zip_file)\n",
    "    print(\"Remove zip file completed\")\n",
    "\n",
    "def download_and_extract(url, output_dir, filename = \"data.zip\"):\n",
    "    download_file(url, filename, output_dir)\n",
    "    extract_zip(output_dir + filename, output_dir)"
   ]
  },
  {
   "cell_type": "code",
   "execution_count": null,
   "metadata": {},
   "outputs": [],
   "source": [
    "import cv2\n",
    "from PIL import Image\n",
    "\n",
    "def save_image(image, path):\n",
    "    image.save(path)\n",
    "\n",
    "def extract_video_frame(video_path, frame_folder, width=640, height=480):\n",
    "    print(f'Extracting frames from {video_path}...', end='\\n')\n",
    "    video_name = os.path.basename(video_path).split('.')[0]\n",
    "    video_name = video_name.replace(' ', '_')\n",
    "    frame_out_dir = os.path.join(frame_folder, video_name)\n",
    "    if not os.path.exists(frame_out_dir):\n",
    "        os.makedirs(frame_out_dir)\n",
    "    cap = cv2.VideoCapture(video_path)\n",
    "    fps = cap.get(cv2.CAP_PROP_FPS)\n",
    "    frame_cout = 0\n",
    "    list_frame = []\n",
    "    while True:\n",
    "        ret, frame = cap.read()\n",
    "        if not ret:\n",
    "            break\n",
    "        if frame_cout % 7 != 0:\n",
    "            frame_cout += 1\n",
    "            continue\n",
    "        if frame_cout % 1000 == 0:\n",
    "            print(f'Extracted {frame_cout} frames from {video_name}')\n",
    "        frame = Image.fromarray(cv2.cvtColor(frame, cv2.COLOR_BGR2RGB)).resize((width, height))\n",
    "        frame_path = os.path.join(frame_out_dir, f'{frame_cout}.jpg')\n",
    "        save_image(frame, frame_path)\n",
    "        list_frame.append((frame_cout, frame_path))\n",
    "        frame_cout += 1\n",
    "    cap.release()\n",
    "    print(f'Extracted {len(list_frame)} frames from {video_name}')"
   ]
  },
  {
   "cell_type": "code",
   "execution_count": null,
   "metadata": {},
   "outputs": [],
   "source": [
    "def wfile(folder, end='.mp4'):\n",
    "    return [os.path.join(folder, f) for f in os.listdir(folder) if f.endswith(end)]"
   ]
  },
  {
   "cell_type": "code",
   "execution_count": null,
   "metadata": {},
   "outputs": [],
   "source": [
    "FRAME_WIDTH = 640\n",
    "FRAME_HEIGHT = 480\n",
    "\n",
    "ROOT_DIR = '/kaggle/input'\n",
    "ROOT_OUTPUT_DIR = '/kaggle/temp'\n",
    "\n",
    "dataset_name=\"people\"\n",
    "API={\"username\":\"tareksherif\",\"key\":\"f4cf963ba526c529b3a9b0ea5058e6f0\"}"
   ]
  },
  {
   "cell_type": "code",
   "execution_count": null,
   "metadata": {},
   "outputs": [],
   "source": [
    "os.environ['KAGGLE_USERNAME'] = API[\"username\"]\n",
    "os.environ['KAGGLE_KEY'] = API[\"key\"]"
   ]
  },
  {
   "cell_type": "code",
   "execution_count": 1,
   "metadata": {},
   "outputs": [],
   "source": [
    "from multiprocessing import Pool\n",
    "import multiprocessing as m\n",
    "\n",
    "def extract(list_video, output_dir):\n",
    "    with Pool(m.cpu_count()) as p:\n",
    "        p.starmap(extract_video_frame, [(video, output_dir, FRAME_WIDTH, FRAME_HEIGHT) for video in list_video])"
   ]
  },
  {
   "cell_type": "code",
   "execution_count": null,
   "metadata": {},
   "outputs": [],
   "source": [
    "for url in list_of_urls:\n",
    "    print(f\"Downloading and extracting {url}\")\n",
    "    download_and_extract(url, os.path.join(ROOT_DIR, 'video'))\n",
    "    list_video = wfile(ROOT_DIR, '.mp4')\n",
    "    extract(list_video, ROOT_OUTPUT_DIR)\n",
    "    print(f\"Completed {url}\")\n",
    "    print(\"---------------------------------------------------\")"
   ]
  },
  {
   "cell_type": "code",
   "execution_count": null,
   "metadata": {},
   "outputs": [],
   "source": [
    "data = {\n",
    "  \"title\": dataset_name,\n",
    "  \"id\": os.environ['KAGGLE_USERNAME']+\"/\"+dataset_name,\n",
    "  \"licenses\": [\n",
    "    {\n",
    "      \"name\": \"CC0-1.0\"\n",
    "    }\n",
    "  ]\n",
    "}\n",
    " \n",
    "with open(os.path.join(ROOT_OUTPUT_DIR, 'dataset-metadata.json'), 'w') as f:\n",
    "    json.dump(data, f)"
   ]
  },
  {
   "cell_type": "code",
   "execution_count": null,
   "metadata": {},
   "outputs": [],
   "source": [
    "list_file = [os.path.join(ROOT_OUTPUT_DIR, f) for f in os.listdir(ROOT_OUTPUT_DIR) if f.endswith('1')]\n",
    "def zip_folder(folder, zip_file):\n",
    "    with zipfile.ZipFile(zip_file, 'w', zipfile.ZIP_DEFLATED) as zipf:\n",
    "        for root, dirs, files in os.walk(folder):\n",
    "            for file in files:\n",
    "                zipf.write(os.path.join(root, file), os.path.relpath(os.path.join(root, file), os.path.join(folder, '..')))\n",
    "\n",
    "#zip video folder\n",
    "with Pool(m.cpu_count()) as p:\n",
    "    p.starmap(zip_folder, [(f, f+'.zip') for f in list_file])"
   ]
  }
 ],
 "metadata": {
  "kernelspec": {
   "display_name": "Python 3",
   "language": "python",
   "name": "python3"
  },
  "language_info": {
   "codemirror_mode": {
    "name": "ipython",
    "version": 3
   },
   "file_extension": ".py",
   "mimetype": "text/x-python",
   "name": "python",
   "nbconvert_exporter": "python",
   "pygments_lexer": "ipython3",
   "version": "3.12.5"
  }
 },
 "nbformat": 4,
 "nbformat_minor": 2
}
